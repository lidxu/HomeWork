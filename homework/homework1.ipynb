{
 "cells": [
  {
   "cell_type": "code",
   "execution_count": 1,
   "metadata": {
    "tags": []
   },
   "outputs": [
    {
     "name": "stdout",
     "output_type": "stream",
     "text": [
      "★ 数据科学与工程导论 ★\n"
     ]
    }
   ],
   "source": [
    "print(chr(0x2605),'数据科学与工程导论',chr(0x2605))\n"
   ]
  },
  {
   "cell_type": "code",
   "execution_count": 2,
   "metadata": {
    "tags": []
   },
   "outputs": [
    {
     "name": "stdin",
     "output_type": "stream",
     "text": [
      " 1\n",
      " 2\n",
      " 3\n"
     ]
    },
    {
     "name": "stdout",
     "output_type": "stream",
     "text": [
      "1 2 3\n"
     ]
    }
   ],
   "source": [
    "#notebook无法交互式输出但是代码可正常运行\n",
    "x=int(input())\n",
    "y=int(input())\n",
    "z=int(input())\n",
    "if x > y:\n",
    "    if y > z:print(z,y,x)\n",
    "    elif z>x:print(y,x,z)\n",
    "    else:print(y,z,x)\n",
    "else:\n",
    "    if x > z:print(z,x,y)\n",
    "    elif z>y:print(x,y,z)\n",
    "    else:print(x,z,y)"
   ]
  },
  {
   "cell_type": "code",
   "execution_count": 3,
   "metadata": {
    "tags": []
   },
   "outputs": [
    {
     "name": "stdin",
     "output_type": "stream",
     "text": [
      " 1\n",
      " 2\n",
      " 3\n",
      " 4\n"
     ]
    },
    {
     "name": "stdout",
     "output_type": "stream",
     "text": [
      "4 3 2 1\n"
     ]
    }
   ],
   "source": [
    "#notebook无法交互式输出但是代码可正常运行\n",
    "x=int(input())\n",
    "y=int(input())\n",
    "z=int(input())\n",
    "w=int(input())\n",
    "if w<y:\n",
    "    a=w\n",
    "    w=y\n",
    "    y=a\n",
    "if w<z:\n",
    "    b=w\n",
    "    w=z\n",
    "    z=b\n",
    "if w<x:\n",
    "    c=w\n",
    "    w=x\n",
    "    x=c\n",
    "if x > y:\n",
    "    if y > z:print(w,x,y,z)\n",
    "    elif z>x:print(w,z,x,y)\n",
    "    else:print(w,x,z,y)\n",
    "else:\n",
    "    if x > z:print(w,y,x,z)\n",
    "    elif z>y:print(w,z,y,x)\n",
    "    else:print(w,y,z,x)"
   ]
  },
  {
   "cell_type": "code",
   "execution_count": 4,
   "metadata": {
    "tags": []
   },
   "outputs": [
    {
     "name": "stdout",
     "output_type": "stream",
     "text": [
      "1 3 5 7 9 11 13 15 17 19 21 23 25 27 29 31 33 35 37 39 41 43 45 47 49 51 53 55 57 59 61 63 65 67 69 71 73 75 77 79 81 83 85 87 89 91 93 95 97 99 "
     ]
    }
   ],
   "source": [
    "i=1\n",
    "for i in range(101):\n",
    "    if i%2==0:\n",
    "        i=i+1\n",
    "    else:\n",
    "        print(i, end=\" \")\n",
    "        i=i+1"
   ]
  },
  {
   "cell_type": "code",
   "execution_count": 5,
   "metadata": {
    "tags": []
   },
   "outputs": [
    {
     "name": "stdout",
     "output_type": "stream",
     "text": [
      "5050\n"
     ]
    }
   ],
   "source": [
    "sum=0\n",
    "i=1\n",
    "for i in range(101):\n",
    "    sum=sum+i\n",
    "    i=i+1\n",
    "print(sum)"
   ]
  },
  {
   "cell_type": "code",
   "execution_count": 6,
   "metadata": {
    "tags": []
   },
   "outputs": [
    {
     "name": "stdout",
     "output_type": "stream",
     "text": [
      "5 4 3 2 1 \n",
      "5 4 3 2 1 "
     ]
    }
   ],
   "source": [
    "#以该列表为例子\n",
    "L=[1,2,3,4,5]\n",
    "for i in range(len(L)-1, -1, -1):\n",
    "    print(L[i], end=\" \")\n",
    "t=len(L)-1\n",
    "print()\n",
    "while t >-1:\n",
    "    print(L[t],end=\" \")\n",
    "    t=t-1"
   ]
  },
  {
   "cell_type": "code",
   "execution_count": 7,
   "metadata": {
    "tags": []
   },
   "outputs": [
    {
     "name": "stdin",
     "output_type": "stream",
     "text": [
      " kkjkjisjijk\n"
     ]
    },
    {
     "name": "stdout",
     "output_type": "stream",
     "text": [
      "包含连续字符\n"
     ]
    }
   ],
   "source": [
    "#可以代例子\n",
    "s=input()\n",
    "c=0\n",
    "for i in range(len(s)-1):\n",
    "    a=s[i]\n",
    "    b=s[i+1]\n",
    "    if a==b : \n",
    "        c=1\n",
    "        break\n",
    "    else :i=i+1\n",
    "if c==1 :\n",
    "    print('包含连续字符')\n",
    "else:\n",
    "    print('不包含连续字符')\n"
   ]
  },
  {
   "cell_type": "code",
   "execution_count": 8,
   "metadata": {
    "tags": []
   },
   "outputs": [
    {
     "name": "stdin",
     "output_type": "stream",
     "text": [
      " bjdkk kskslkll sikjk\n"
     ]
    },
    {
     "name": "stdout",
     "output_type": "stream",
     "text": [
      "bjdkkkskslkllsikjk\n"
     ]
    }
   ],
   "source": [
    "s=input()\n",
    "print(s.replace(\" \",\"\"))"
   ]
  },
  {
   "cell_type": "code",
   "execution_count": 11,
   "metadata": {
    "tags": []
   },
   "outputs": [
    {
     "name": "stdin",
     "output_type": "stream",
     "text": [
      " 8\n"
     ]
    },
    {
     "name": "stdout",
     "output_type": "stream",
     "text": [
      "2.0\n"
     ]
    }
   ],
   "source": [
    "def cube(num):\n",
    "    x=num\n",
    "    while 1:\n",
    "        fx=x**3-num\n",
    "        fpx=3*x**2\n",
    "        x=x-fx/fpx\n",
    "        if abs(fx)<1e-6:\n",
    "            break\n",
    "    return x\n",
    "number=int(input())\n",
    "print(cube(number))"
   ]
  },
  {
   "cell_type": "code",
   "execution_count": 10,
   "metadata": {
    "tags": []
   },
   "outputs": [
    {
     "name": "stdin",
     "output_type": "stream",
     "text": [
      " 6\n"
     ]
    },
    {
     "name": "stdout",
     "output_type": "stream",
     "text": [
      "720\n"
     ]
    }
   ],
   "source": [
    "n=int(input())\n",
    "i=1\n",
    "end=1\n",
    "for i in range(1,n+1):\n",
    "    end=end*i\n",
    "print(end)"
   ]
  },
  {
   "cell_type": "code",
   "execution_count": null,
   "metadata": {},
   "outputs": [],
   "source": []
  }
 ],
 "metadata": {
  "kernelspec": {
   "display_name": "Python 3 (ipykernel)",
   "language": "python",
   "name": "python3"
  },
  "language_info": {
   "codemirror_mode": {
    "name": "ipython",
    "version": 3
   },
   "file_extension": ".py",
   "mimetype": "text/x-python",
   "name": "python",
   "nbconvert_exporter": "python",
   "pygments_lexer": "ipython3",
   "version": "3.11.5"
  }
 },
 "nbformat": 4,
 "nbformat_minor": 4
}
