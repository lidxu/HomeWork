{
 "cells": [
  {
   "cell_type": "code",
   "execution_count": 1,
   "metadata": {
    "tags": []
   },
   "outputs": [
    {
     "name": "stdin",
     "output_type": "stream",
     "text": [
      " 2 \n",
      " 4\n"
     ]
    },
    {
     "name": "stdout",
     "output_type": "stream",
     "text": [
      "2\n"
     ]
    }
   ],
   "source": [
    "x=int(input())\n",
    "y=int(input())\n",
    "if x>y :\n",
    "    sm=y\n",
    "else :\n",
    "    sm=x\n",
    "for i in range(1,sm+1):\n",
    "    if x%i==0 and y%i==0:\n",
    "        gys=i\n",
    "print(gys)"
   ]
  },
  {
   "cell_type": "code",
   "execution_count": 2,
   "metadata": {
    "tags": []
   },
   "outputs": [
    {
     "name": "stdin",
     "output_type": "stream",
     "text": [
      " 88\n"
     ]
    },
    {
     "name": "stdout",
     "output_type": "stream",
     "text": [
      "良好\n"
     ]
    }
   ],
   "source": [
    "x=int(input())\n",
    "if x>89 :\n",
    "    print(\"优秀\")\n",
    "elif x>74 :\n",
    "    print(\"良好\")\n",
    "elif x>59 :\n",
    "    print(\"合格\")\n",
    "else :\n",
    "    print(\"不合格\")"
   ]
  },
  {
   "cell_type": "code",
   "execution_count": 26,
   "metadata": {
    "tags": []
   },
   "outputs": [
    {
     "name": "stdin",
     "output_type": "stream",
     "text": [
      " 16.125\n"
     ]
    },
    {
     "name": "stdout",
     "output_type": "stream",
     "text": [
      "10000.001"
     ]
    }
   ],
   "source": [
    "def trint(n):\n",
    "    if(n>1):\n",
    "        trint(n//2)\n",
    "    print(n%2,end='')\n",
    "def trflo(n):\n",
    "    i=n*2\n",
    "    print(int(i//1),end='')\n",
    "    t=int(i//1)\n",
    "    n=i-t\n",
    "    if(n<1 and n>0):\n",
    "        trflo(n)\n",
    "x=float(input())\n",
    "y=int(x//1)\n",
    "z=x-y\n",
    "trint(y)\n",
    "print(\".\",end='')\n",
    "trflo(z)"
   ]
  },
  {
   "cell_type": "code",
   "execution_count": 2,
   "metadata": {},
   "outputs": [
    {
     "name": "stdout",
     "output_type": "stream",
     "text": [
      "16.456216310902875\n"
     ]
    }
   ],
   "source": [
    "import random\n",
    "x=random.uniform(10,20)\n",
    "print(x)"
   ]
  },
  {
   "cell_type": "code",
   "execution_count": 31,
   "metadata": {
    "tags": []
   },
   "outputs": [
    {
     "name": "stdin",
     "output_type": "stream",
     "text": [
      " 12321\n"
     ]
    },
    {
     "name": "stdout",
     "output_type": "stream",
     "text": [
      "是回文数\n"
     ]
    }
   ],
   "source": [
    "x=int(input())\n",
    "y=x\n",
    "w=0\n",
    "while y:\n",
    "    w=w+1\n",
    "    y=y//10\n",
    "flag=0\n",
    "for i in range(1,int(w/2)):\n",
    "    a=x%(10**i)\n",
    "    b=x//(10**(w-i))\n",
    "    if a!=b :\n",
    "        flag=1\n",
    "        break\n",
    "if flag==1 :\n",
    "    print(\"不是回文数\")\n",
    "else:\n",
    "    print(\"是回文数\")"
   ]
  },
  {
   "cell_type": "code",
   "execution_count": 33,
   "metadata": {
    "tags": []
   },
   "outputs": [
    {
     "name": "stdin",
     "output_type": "stream",
     "text": [
      " 6\n"
     ]
    },
    {
     "name": "stdout",
     "output_type": "stream",
     "text": [
      "0 1 1 2 3 5 "
     ]
    }
   ],
   "source": [
    "n=int(input())\n",
    "list=[]\n",
    "for m in range(0,n):\n",
    "    if m==0:\n",
    "        list.append(0)\n",
    "    elif m==1:\n",
    "        list.append(1)\n",
    "    else:\n",
    "        list.append(list[m-1]+list[m-2])\n",
    "for i in range(len(list)):\n",
    "    print(list[i],end=' ')"
   ]
  },
  {
   "cell_type": "code",
   "execution_count": 9,
   "metadata": {
    "tags": []
   },
   "outputs": [
    {
     "name": "stdin",
     "output_type": "stream",
     "text": [
      " 6,5,8,4,3,2,1\n"
     ]
    },
    {
     "name": "stdout",
     "output_type": "stream",
     "text": [
      "6\n"
     ]
    }
   ],
   "source": [
    "def find_second_largest(list1):\n",
    "    one = list1[0]\n",
    "    if len(list1)==1 :\n",
    "        return -1\n",
    "    two = list1[1]\n",
    "    for i in range(1, len(list1)):\n",
    "        if list1[i] > one:\n",
    "            two = one\n",
    "            one = list1[i]\n",
    "        elif list1[i] > two:\n",
    "            two = list1[i]\n",
    "        else:\n",
    "            pass\n",
    "            \n",
    "    return two\n",
    " \n",
    "num_list = input().split(\",\")\n",
    "print(find_second_largest(num_list)) "
   ]
  },
  {
   "cell_type": "code",
   "execution_count": 11,
   "metadata": {
    "tags": []
   },
   "outputs": [
    {
     "name": "stdin",
     "output_type": "stream",
     "text": [
      " 400568952421102512\n"
     ]
    },
    {
     "name": "stdout",
     "output_type": "stream",
     "text": [
      "身份证不合法\n"
     ]
    }
   ],
   "source": [
    "import re\n",
    "pattern = r'^[1-9]\\d{5}(19|20)\\d{2}(0[1-9]|1[0-2])(0[1-9]|[1-2]\\d|30|31)\\d{3}[0-9Xx]$'\n",
    "id=input()\n",
    "if re.match(pattern,id):\n",
    "    print('身份证合法')\n",
    "else:\n",
    "    print('身份证不合法')"
   ]
  },
  {
   "cell_type": "code",
   "execution_count": null,
   "metadata": {},
   "outputs": [],
   "source": []
  }
 ],
 "metadata": {
  "kernelspec": {
   "display_name": "Python 3 (ipykernel)",
   "language": "python",
   "name": "python3"
  },
  "language_info": {
   "codemirror_mode": {
    "name": "ipython",
    "version": 3
   },
   "file_extension": ".py",
   "mimetype": "text/x-python",
   "name": "python",
   "nbconvert_exporter": "python",
   "pygments_lexer": "ipython3",
   "version": "3.11.5"
  }
 },
 "nbformat": 4,
 "nbformat_minor": 4
}
