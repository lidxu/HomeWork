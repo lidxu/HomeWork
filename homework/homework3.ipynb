{
 "cells": [
  {
   "cell_type": "markdown",
   "metadata": {},
   "source": [
    "1.编写 Python程序,判断输入a是否为质数"
   ]
  },
  {
   "cell_type": "code",
   "execution_count": 10,
   "metadata": {
    "tags": []
   },
   "outputs": [
    {
     "name": "stdin",
     "output_type": "stream",
     "text": [
      " 4\n"
     ]
    },
    {
     "name": "stdout",
     "output_type": "stream",
     "text": [
      "不是质数\n"
     ]
    }
   ],
   "source": [
    "import math\n",
    "a=int(input())\n",
    "flag=1\n",
    "if a == 2 :\n",
    "    flag=1\n",
    "elif a<2 :\n",
    "    flag=0\n",
    "else:\n",
    "    i=2\n",
    "    for i in range(2,int(math.sqrt(a))+1) :\n",
    "        if a%i == 0 :\n",
    "            flag=0\n",
    "            break\n",
    "if flag==1 :\n",
    "    print(\"是质数\")\n",
    "else :\n",
    "    print(\"不是质数\")"
   ]
  },
  {
   "cell_type": "markdown",
   "metadata": {},
   "source": [
    "2.用Python实现插入排序该算法，不允许直接调用插入排序函数，需要手动实现其逻辑过程。"
   ]
  },
  {
   "cell_type": "code",
   "execution_count": 11,
   "metadata": {
    "tags": []
   },
   "outputs": [
    {
     "name": "stdin",
     "output_type": "stream",
     "text": [
      " 1,5,6,2,7\n"
     ]
    },
    {
     "name": "stdout",
     "output_type": "stream",
     "text": [
      "['1', '2', '5', '6', '7']\n"
     ]
    }
   ],
   "source": [
    "a=input().split(\",\")\n",
    "for i in range(1,len(a)) :\n",
    "    key=a[i]\n",
    "    j=i-1\n",
    "    while j>=0 and key<a[j] :\n",
    "        a[j+1]=a[j]\n",
    "        j-=1\n",
    "    a[j+1]=key\n",
    "print(a)"
   ]
  },
  {
   "cell_type": "markdown",
   "metadata": {},
   "source": [
    "3.用Python实现选择排序该算法，不允许直接调用选择排序函数，需要手动实现其逻辑过程。"
   ]
  },
  {
   "cell_type": "code",
   "execution_count": 12,
   "metadata": {
    "tags": []
   },
   "outputs": [
    {
     "name": "stdin",
     "output_type": "stream",
     "text": [
      " 1,2,3,8,4\n"
     ]
    },
    {
     "name": "stdout",
     "output_type": "stream",
     "text": [
      "['1', '2', '3', '4', '8']\n"
     ]
    }
   ],
   "source": [
    "a=input().split(\",\")\n",
    "for i in range(len(a)):\n",
    "    min_idx=i\n",
    "    for j in range(i+1,len(a)):\n",
    "        if a[j]<a[min_idx] :\n",
    "            min_idx=j\n",
    "    a[i],a[min_idx]=a[min_idx],a[i]\n",
    "print(a)"
   ]
  },
  {
   "cell_type": "markdown",
   "metadata": {},
   "source": [
    "4.用Python实现快速排序该算法，不允许直接调用快速排序函数，需要手动实现其逻辑过程。"
   ]
  },
  {
   "cell_type": "code",
   "execution_count": 15,
   "metadata": {
    "tags": []
   },
   "outputs": [
    {
     "name": "stdin",
     "output_type": "stream",
     "text": [
      " 1,8,5,3,4\n"
     ]
    },
    {
     "name": "stdout",
     "output_type": "stream",
     "text": [
      "['1', '3', '4', '5', '8']\n"
     ]
    }
   ],
   "source": [
    "def partition(arr,low,high): \n",
    "    i = ( low-1 )     \n",
    "    pivot = arr[high]     \n",
    "    for j in range(low , high): \n",
    "        if   arr[j] <= pivot: \n",
    "            i = i+1 \n",
    "            arr[i],arr[j] = arr[j],arr[i] \n",
    "    arr[i+1],arr[high] = arr[high],arr[i+1] \n",
    "    return ( i+1 ) \n",
    "def quickSort(arr,low,high): \n",
    "    if low < high: \n",
    "        pi = partition(arr,low,high) \n",
    "        quickSort(arr, low, pi-1) \n",
    "        quickSort(arr, pi+1, high) \n",
    "arr = input().split(\",\")\n",
    "n = len(arr) \n",
    "quickSort(arr,0,n-1) \n",
    "print (arr)"
   ]
  },
  {
   "cell_type": "markdown",
   "metadata": {},
   "source": [
    "5.使用 Python 随机生成三组长度递增的随机数列，长度分别为100、1000、10000，对生成的随机数组使用不同的排序算法，例如选择排序和归并排序，至少三种排序方法。对这些数列的数据排序，并分析不同排序算法在不同长度数列下的运行效果，例如运行时间等指标。（可以使用排序函数）"
   ]
  },
  {
   "cell_type": "code",
   "execution_count": 6,
   "metadata": {},
   "outputs": [],
   "source": [
    "import random\n",
    "import time"
   ]
  },
  {
   "cell_type": "code",
   "execution_count": 9,
   "metadata": {},
   "outputs": [],
   "source": [
    "def merge_sort(arr):\n",
    "    if len(arr) > 1:\n",
    "        mid = len(arr) // 2\n",
    "        L = arr[:mid]\n",
    "        R = arr[mid:]\n",
    "\n",
    "        merge_sort(L)\n",
    "        merge_sort(R)\n",
    "\n",
    "        i = j = k = 0\n",
    "\n",
    "        while i < len(L) and j < len(R):\n",
    "            if L[i] < R[j]:\n",
    "                arr[k] = L[i]\n",
    "                i += 1\n",
    "            else:\n",
    "                arr[k] = R[j]\n",
    "                j += 1\n",
    "            k += 1\n",
    "\n",
    "        while i < len(L):\n",
    "            arr[k] = L[i]\n",
    "            i += 1\n",
    "            k += 1\n",
    "\n",
    "        while j < len(R):\n",
    "            arr[k] = R[j]\n",
    "            j += 1\n",
    "            k += 1"
   ]
  },
  {
   "cell_type": "code",
   "execution_count": 10,
   "metadata": {},
   "outputs": [],
   "source": [
    "def selection_sort(arr):\n",
    "    for i in range(len(arr)):\n",
    "        min_idx = i\n",
    "        for j in range(i+1, len(arr)):\n",
    "            if arr[j] < arr[min_idx]:\n",
    "                min_idx = j\n",
    "        arr[i], arr[min_idx] = arr[min_idx], arr[i]"
   ]
  },
  {
   "cell_type": "code",
   "execution_count": 15,
   "metadata": {},
   "outputs": [
    {
     "name": "stdout",
     "output_type": "stream",
     "text": [
      "Testing with array of length 100\n",
      "Selection Sort took 0.000000 seconds\n",
      "Merge Sort took 0.000000 seconds\n",
      "Timsort took 0.000000 seconds\n",
      "Testing with array of length 1000\n",
      "Selection Sort took 0.014931 seconds\n",
      "Merge Sort took 0.002349 seconds\n",
      "Timsort took 0.001017 seconds\n",
      "Testing with array of length 10000\n",
      "Selection Sort took 1.608606 seconds\n",
      "Merge Sort took 0.016541 seconds\n",
      "Timsort took 0.001009 seconds\n"
     ]
    }
   ],
   "source": [
    "def test_sorting_algorithms():\n",
    "    lengths = [100, 1000, 10000]\n",
    "    algorithms = {\n",
    "        'Selection Sort': selection_sort,\n",
    "        'Merge Sort': merge_sort,\n",
    "        'Timsort': sorted\n",
    "    }\n",
    "\n",
    "    for n in lengths:\n",
    "        print(f\"Testing with array of length {n}\")\n",
    "        arr = [random.randint(0, 100000) for _ in range(n)]\n",
    "\n",
    "        for name, func in algorithms.items():\n",
    "            test_arr = arr[:]\n",
    "            start_time = time.time()\n",
    "            \n",
    "            if name == 'Timsort':\n",
    "                test_arr = func(test_arr)\n",
    "            else:\n",
    "                func(test_arr)\n",
    "\n",
    "            end_time = time.time()\n",
    "            print(f\"{name} took {end_time - start_time:.6f} seconds\")\n",
    "\n",
    "test_sorting_algorithms()"
   ]
  },
  {
   "cell_type": "markdown",
   "metadata": {},
   "source": [
    "6.使用python代码获取当前系统时间"
   ]
  },
  {
   "cell_type": "code",
   "execution_count": 18,
   "metadata": {},
   "outputs": [
    {
     "name": "stdout",
     "output_type": "stream",
     "text": [
      "2024-11-02 14:50:49\n"
     ]
    }
   ],
   "source": [
    "from datetime import datetime\n",
    "current_time = datetime.now()\n",
    "formatted_time = current_time.strftime(\"%Y-%m-%d %H:%M:%S\")\n",
    "print(formatted_time)"
   ]
  },
  {
   "cell_type": "markdown",
   "metadata": {},
   "source": [
    "7.Homework/data文件夹下的stuGrade.csv文件中包含5位同学的学号、语文成绩、数学成绩和英语成绩，请先用记事本打开该文件，查看文件内容，然后编写Python程序，读取该文件，并计算出各科的平均成绩（保留2位小数）。"
   ]
  },
  {
   "cell_type": "code",
   "execution_count": 26,
   "metadata": {},
   "outputs": [
    {
     "name": "stdout",
     "output_type": "stream",
     "text": [
      "语文平均成绩: 82.60\n",
      "数学平均成绩: 81.00\n",
      "英语平均成绩: 81.80\n"
     ]
    }
   ],
   "source": [
    "import csv\n",
    "def calculate_averages(file_path):\n",
    "    chinese_total = 0\n",
    "    math_total = 0\n",
    "    english_total = 0\n",
    "    student_count = 0\n",
    "    with open(file_path, mode='r', encoding='utf-8') as file:\n",
    "        reader = csv.DictReader(file)\n",
    "        for row in reader:\n",
    "            chinese_total += float(row['chinese'])\n",
    "            math_total += float(row['math'])\n",
    "            english_total += float(row['english'])\n",
    "            student_count += 1\n",
    "    chinese_avg = chinese_total / student_count\n",
    "    math_avg = math_total / student_count\n",
    "    english_avg = english_total / student_count\n",
    "    return round(chinese_avg, 2), round(math_avg, 2), round(english_avg, 2)\n",
    "file_path = r\"C:\\Users\\asus\\Desktop\\stuGrade.csv\"\n",
    "chinese_avg, math_avg, english_avg = calculate_averages(file_path)\n",
    "\n",
    "print(f\"语文平均成绩: {chinese_avg:.2f}\")\n",
    "print(f\"数学平均成绩: {math_avg:.2f}\")\n",
    "print(f\"英语平均成绩: {english_avg:.2f}\")"
   ]
  },
  {
   "cell_type": "markdown",
   "metadata": {},
   "source": [
    "8.请在第7题的代码继续编写Python程序，将以下内容写入my.txt文件中，一并上传到github中。\n",
    "\n",
    "    第1行：你的学号和姓名\n",
    "\n",
    "    第2行：3门课程的平均成绩（任意课程），保留2位小数，以英文逗号间隔\n",
    "\n",
    "    第3行：系统当前时间，格式例如2020-01-01 12:00:00\n",
    "\n",
    "    第4行：两秒后的系统当前时间（利用sleep()方法）"
   ]
  },
  {
   "cell_type": "code",
   "execution_count": 30,
   "metadata": {},
   "outputs": [],
   "source": [
    "import csv\n",
    "import os\n",
    "import datetime\n",
    "import time\n",
    "def write_to_file(file_path):\n",
    "    # 当前时间和两秒后的系统时间\n",
    "    current_time = datetime.datetime.now().strftime(\"%Y-%m-%d %H:%M:%S\")\n",
    "    time.sleep(2)\n",
    "    two_seconds_later = datetime.datetime.now().strftime(\"%Y-%m-%d %H:%M:%S\")\n",
    "    \n",
    "    # 写入内容\n",
    "    with open(file_path, mode='w', encoding='utf-8') as file:\n",
    "        file.write(\"10235501412 李东旭\\n\")\n",
    "        file.write(f\"语文平均成绩: 82.60,数学平均成绩: 81.00,英语平均成绩: 81.80\\n\")\n",
    "        file.write(f\"{current_time}\\n\")\n",
    "        file.write(f\"{two_seconds_later}\\n\")\n",
    "output_file_path = 'my.txt'\n",
    "write_to_file(output_file_path)"
   ]
  }
 ],
 "metadata": {
  "kernelspec": {
   "display_name": "Python 3 (ipykernel)",
   "language": "python",
   "name": "python3"
  },
  "language_info": {
   "codemirror_mode": {
    "name": "ipython",
    "version": 3
   },
   "file_extension": ".py",
   "mimetype": "text/x-python",
   "name": "python",
   "nbconvert_exporter": "python",
   "pygments_lexer": "ipython3",
   "version": "3.11.5"
  }
 },
 "nbformat": 4,
 "nbformat_minor": 4
}
